{
 "cells": [
  {
   "cell_type": "markdown",
   "id": "b6e4e60f-209f-4384-9107-64425534f71d",
   "metadata": {
    "tags": []
   },
   "source": [
    "# DataScienceEcosystem"
   ]
  },
  {
   "cell_type": "markdown",
   "id": "96157d02-ac36-43c6-8e7b-6a0e73be6fac",
   "metadata": {},
   "source": [
    "In this notebook, Data Science Tools and Ecosystem are summarized."
   ]
  },
  {
   "cell_type": "markdown",
   "id": "161b44cb-302b-461c-8e6f-47bbc6b31737",
   "metadata": {},
   "source": [
    "<h2>Objective</h2>"
   ]
  },
  {
   "cell_type": "markdown",
   "id": "1647e53d-5170-44b8-a538-3a1c19f405df",
   "metadata": {},
   "source": [
    "- List popular languages for Data Science\n",
    "- Most popular language for Data Science\n",
    "- Most usable languages for Data Science"
   ]
  },
  {
   "cell_type": "code",
   "execution_count": 12,
   "id": "6760780a-6140-4fae-8765-b1349a39eabd",
   "metadata": {},
   "outputs": [],
   "source": [
    "#Some of the popular languages that Data Scientists use are:\n"
   ]
  },
  {
   "cell_type": "markdown",
   "id": "410ae410-f3e0-4d95-814b-356995bc57ba",
   "metadata": {},
   "source": [
    "1.Python\n",
    "2.R\n",
    "3.SQL\n",
    "4.Java"
   ]
  },
  {
   "cell_type": "code",
   "execution_count": 22,
   "id": "eed10f57-ecaf-435a-9839-7b259ffe163e",
   "metadata": {},
   "outputs": [],
   "source": [
    "#Some of the commonly used libraries used by Data Scientists include:"
   ]
  },
  {
   "cell_type": "markdown",
   "id": "b155450f-297d-4c1e-b9ad-f09d2ece0640",
   "metadata": {},
   "source": [
    "1.Pandas\n",
    "2.Numpy\n",
    "3.Matplotlib\n",
    "4.Seaborn"
   ]
  },
  {
   "cell_type": "markdown",
   "id": "d97cad3b-54f4-49f0-8b4e-db3ff97fd411",
   "metadata": {},
   "source": [
    "<h1>Table</h2>"
   ]
  },
  {
   "cell_type": "markdown",
   "id": "66cfb605-0208-4d5d-a57f-8bfa164b4910",
   "metadata": {},
   "source": [
    "|Data Science Tools|\n",
    "\n",
    "|Matplotlib|\n",
    "\n",
    "|Pandas|\n",
    "\n",
    "|Numpy|"
   ]
  },
  {
   "cell_type": "markdown",
   "id": "fa806cde-8e2a-4e85-9506-8178274b8f90",
   "metadata": {},
   "source": [
    "<h3>Below are a few examples of evaluating arithmetic expressions in Python</h3>"
   ]
  },
  {
   "cell_type": "markdown",
   "id": "777ee666-7953-4681-9076-f578e0e5372a",
   "metadata": {},
   "source": [
    "$Ax^2 + Bx + C$"
   ]
  },
  {
   "cell_type": "markdown",
   "id": "2a97bc8c-2555-4069-b2fc-5f2c16cf7cc0",
   "metadata": {},
   "source": [
    "$AX + B$"
   ]
  },
  {
   "cell_type": "code",
   "execution_count": 33,
   "id": "8d44eece-22a9-44b5-95db-0c52f9251f61",
   "metadata": {},
   "outputs": [],
   "source": [
    "#This a simple arithmetic expression to mutiply then add integers"
   ]
  },
  {
   "cell_type": "code",
   "execution_count": 39,
   "id": "cf0517f9-4f63-4478-aac8-4e3e24fd82b1",
   "metadata": {},
   "outputs": [
    {
     "name": "stdout",
     "output_type": "stream",
     "text": [
      "multiplication of a and b and plus c = 17\n"
     ]
    }
   ],
   "source": [
    "a = 2\n",
    "b = 5\n",
    "c = 7\n",
    "d = (a*b)+c\n",
    "print(\"multiplication of a and b and plus c =\",d)"
   ]
  },
  {
   "cell_type": "code",
   "execution_count": 35,
   "id": "b4957440-2499-4d54-9b11-177c5db978b0",
   "metadata": {},
   "outputs": [],
   "source": [
    "#This will convert 200 minutes to hours by diving by 60"
   ]
  },
  {
   "cell_type": "code",
   "execution_count": 36,
   "id": "494d64e7-5833-4a9d-8f00-af89c8236ff8",
   "metadata": {},
   "outputs": [
    {
     "name": "stdout",
     "output_type": "stream",
     "text": [
      "division of a by b is = 3.3333333333333335\n"
     ]
    }
   ],
   "source": [
    "a = 200\n",
    "b = 60\n",
    "c = a/b \n",
    "print(\"division of a by b is =\",c)"
   ]
  },
  {
   "cell_type": "markdown",
   "id": "d8a9f70a-f95c-48ca-bf91-ae861f98a221",
   "metadata": {},
   "source": [
    "<h2>Author</h2>"
   ]
  },
  {
   "cell_type": "markdown",
   "id": "9af3dea7-0502-410f-9492-c88194686cdb",
   "metadata": {},
   "source": [
    "Ratnadeep Sengar"
   ]
  },
  {
   "cell_type": "code",
   "execution_count": null,
   "id": "496b299e-880a-47d6-a759-f3132e43ecfb",
   "metadata": {},
   "outputs": [],
   "source": []
  }
 ],
 "metadata": {
  "kernelspec": {
   "display_name": "Python 3 (ipykernel)",
   "language": "python",
   "name": "python3"
  },
  "language_info": {
   "codemirror_mode": {
    "name": "ipython",
    "version": 3
   },
   "file_extension": ".py",
   "mimetype": "text/x-python",
   "name": "python",
   "nbconvert_exporter": "python",
   "pygments_lexer": "ipython3",
   "version": "3.9.13"
  }
 },
 "nbformat": 4,
 "nbformat_minor": 5
}
